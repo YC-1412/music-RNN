{
 "cells": [
  {
   "cell_type": "code",
   "execution_count": 3,
   "metadata": {},
   "outputs": [],
   "source": [
    "# !pip install --upgrade music21\n",
    "from music21 import *\n",
    "import pandas as pd\n",
    "import numpy as np\n",
    "import IPython.display\n",
    "from utils import process_music, prepare_sequences, unpack_data, generate_midi\n",
    "from networks import LSTM_model\n",
    "import tensorflow as tf"
   ]
  },
  {
   "cell_type": "code",
   "execution_count": 4,
   "metadata": {},
   "outputs": [],
   "source": [
    "path = './data/chopin/'"
   ]
  },
  {
   "cell_type": "markdown",
   "metadata": {},
   "source": [
    "## Load data"
   ]
  },
  {
   "cell_type": "code",
   "execution_count": 5,
   "metadata": {},
   "outputs": [],
   "source": [
    "# unpack_data('./data/', 'chopin')\n",
    "# clean_name = 'chopin_clean'\n",
    "# notes = process_music(path, clean_name)\n",
    "# network_input, network_output, pitchnames = prepare_sequences(notes)"
   ]
  },
  {
   "cell_type": "code",
   "execution_count": 6,
   "metadata": {},
   "outputs": [],
   "source": [
    "import pickle\n",
    "# file = open(path+'clean_music','rb')\n",
    "file = open(path+'chopin_clean','rb')\n",
    "notes = pickle.load(file)\n",
    "network_input, network_output, pitchnames = prepare_sequences(notes)"
   ]
  },
  {
   "cell_type": "markdown",
   "metadata": {},
   "source": [
    "## Train model"
   ]
  },
  {
   "cell_type": "code",
   "execution_count": 37,
   "metadata": {},
   "outputs": [
    {
     "name": "stdout",
     "output_type": "stream",
     "text": [
      "WARNING:tensorflow:Layer lstm will not use cuDNN kernel since it doesn't meet the cuDNN kernel criteria. It will use generic GPU kernel as fallback when running on GPU\n",
      "WARNING:tensorflow:Layer lstm_1 will not use cuDNN kernel since it doesn't meet the cuDNN kernel criteria. It will use generic GPU kernel as fallback when running on GPU\n"
     ]
    }
   ],
   "source": [
    "model_path = './models/'\n",
    "model = LSTM_model(network_input.shape, network_output.shape, model_path)\n",
    "model.create_model()"
   ]
  },
  {
   "cell_type": "code",
   "execution_count": null,
   "metadata": {},
   "outputs": [
    {
     "name": "stdout",
     "output_type": "stream",
     "text": [
      "Epoch 1/20\n",
      "316/316 [==============================] - 314s 993ms/step - loss: 5.5138\n",
      "Epoch 2/20\n",
      "316/316 [==============================] - 313s 991ms/step - loss: 4.8552\n",
      "Epoch 3/20\n",
      "316/316 [==============================] - 311s 985ms/step - loss: 4.7440\n",
      "Epoch 4/20\n",
      "316/316 [==============================] - 313s 992ms/step - loss: 4.7274\n",
      "Epoch 5/20\n",
      "316/316 [==============================] - 310s 981ms/step - loss: 4.7129\n",
      "Epoch 6/20\n",
      "316/316 [==============================] - 313s 991ms/step - loss: 4.6577\n",
      "Epoch 7/20\n",
      "316/316 [==============================] - 310s 980ms/step - loss: 4.6453\n",
      "Epoch 8/20\n",
      "316/316 [==============================] - 312s 989ms/step - loss: 4.6353\n",
      "Epoch 9/20\n",
      "316/316 [==============================] - 309s 977ms/step - loss: 4.6232\n",
      "Epoch 10/20\n",
      "316/316 [==============================] - 313s 991ms/step - loss: 4.6118\n",
      "Epoch 11/20\n",
      "316/316 [==============================] - 311s 985ms/step - loss: 4.6062\n",
      "Epoch 12/20\n",
      "316/316 [==============================] - 313s 991ms/step - loss: 4.6055\n",
      "Epoch 13/20\n",
      "316/316 [==============================] - 311s 983ms/step - loss: 4.5988\n",
      "Epoch 14/20\n",
      "255/316 [=======================>......] - ETA: 1:00 - loss: 4.5938"
     ]
    }
   ],
   "source": [
    "model.model_name = 'chopin'\n",
    "model.train(network_input, network_output, epochs=20, batch_size=128)"
   ]
  },
  {
   "cell_type": "code",
   "execution_count": 5,
   "metadata": {},
   "outputs": [
    {
     "name": "stdout",
     "output_type": "stream",
     "text": [
      "WARNING:tensorflow:Layer lstm will not use cuDNN kernel since it doesn't meet the cuDNN kernel criteria. It will use generic GPU kernel as fallback when running on GPU\n",
      "WARNING:tensorflow:Layer lstm_1 will not use cuDNN kernel since it doesn't meet the cuDNN kernel criteria. It will use generic GPU kernel as fallback when running on GPU\n"
     ]
    }
   ],
   "source": [
    "# load model\n",
    "model_path = './models/'\n",
    "model = LSTM_model(network_input.shape, network_output.shape, model_path)\n",
    "model.model_name = 'chopin'\n",
    "model.model = tf.keras.models.load_model('./models/model-chopin-14-4.5947.h5')"
   ]
  },
  {
   "cell_type": "code",
   "execution_count": 6,
   "metadata": {},
   "outputs": [
    {
     "name": "stdout",
     "output_type": "stream",
     "text": [
      "Epoch 1/6\n",
      "316/316 [==============================] - 313s 989ms/step - loss: 4.5894\n",
      "Epoch 2/6\n",
      "316/316 [==============================] - 312s 986ms/step - loss: 4.5864\n",
      "Epoch 3/6\n",
      "316/316 [==============================] - 307s 972ms/step - loss: 4.5787\n",
      "Epoch 4/6\n",
      "316/316 [==============================] - 310s 981ms/step - loss: 4.5711\n",
      "Epoch 5/6\n",
      "316/316 [==============================] - 307s 971ms/step - loss: 4.5645\n",
      "Epoch 6/6\n",
      "316/316 [==============================] - 310s 980ms/step - loss: 4.5593\n"
     ]
    }
   ],
   "source": [
    "model.train(network_input, network_output, epochs=6, batch_size=128)"
   ]
  },
  {
   "cell_type": "code",
   "execution_count": 7,
   "metadata": {},
   "outputs": [],
   "source": [
    "model.model.save(model_path+'model-chopin_20.h5')"
   ]
  },
  {
   "cell_type": "code",
   "execution_count": 11,
   "metadata": {},
   "outputs": [
    {
     "name": "stdout",
     "output_type": "stream",
     "text": [
      "Epoch 1/20\n",
      "316/316 [==============================] - 311s 984ms/step - loss: 4.5499\n",
      "Epoch 2/20\n",
      "316/316 [==============================] - 311s 983ms/step - loss: 4.5421\n",
      "Epoch 3/20\n",
      "316/316 [==============================] - 308s 975ms/step - loss: 4.5310\n",
      "Epoch 4/20\n",
      "316/316 [==============================] - 311s 983ms/step - loss: 4.5274\n",
      "Epoch 5/20\n",
      "316/316 [==============================] - 308s 974ms/step - loss: 4.5133\n",
      "Epoch 6/20\n",
      "316/316 [==============================] - 308s 976ms/step - loss: 4.5009\n",
      "Epoch 7/20\n",
      "316/316 [==============================] - 307s 971ms/step - loss: 4.4884\n",
      "Epoch 8/20\n",
      "316/316 [==============================] - 310s 982ms/step - loss: 4.4776\n",
      "Epoch 9/20\n",
      "316/316 [==============================] - 305s 965ms/step - loss: 4.4622\n",
      "Epoch 10/20\n",
      "316/316 [==============================] - 311s 983ms/step - loss: 4.4437\n",
      "Epoch 11/20\n",
      "316/316 [==============================] - 308s 974ms/step - loss: 4.4278\n",
      "Epoch 12/20\n",
      "316/316 [==============================] - 309s 979ms/step - loss: 4.4081\n",
      "Epoch 13/20\n",
      "316/316 [==============================] - 307s 971ms/step - loss: 4.3876\n",
      "Epoch 14/20\n",
      "316/316 [==============================] - 310s 983ms/step - loss: 4.3627\n",
      "Epoch 15/20\n",
      "316/316 [==============================] - 307s 970ms/step - loss: 4.3351\n",
      "Epoch 16/20\n",
      "316/316 [==============================] - 309s 979ms/step - loss: 4.2956\n",
      "Epoch 17/20\n",
      "316/316 [==============================] - 308s 974ms/step - loss: 4.2650\n",
      "Epoch 18/20\n",
      "316/316 [==============================] - 307s 970ms/step - loss: 4.2330\n",
      "Epoch 19/20\n",
      "316/316 [==============================] - 305s 965ms/step - loss: 4.1988\n",
      "Epoch 20/20\n",
      "316/316 [==============================] - 307s 971ms/step - loss: 4.1649\n"
     ]
    }
   ],
   "source": [
    "model.train(network_input, network_output, epochs=20, batch_size=128)"
   ]
  },
  {
   "cell_type": "code",
   "execution_count": 12,
   "metadata": {},
   "outputs": [],
   "source": [
    "model.model.save(model_path+'model-chopin_40.h5')"
   ]
  },
  {
   "cell_type": "code",
   "execution_count": 25,
   "metadata": {},
   "outputs": [
    {
     "name": "stdout",
     "output_type": "stream",
     "text": [
      "Epoch 1/20\n",
      "316/316 [==============================] - 307s 972ms/step - loss: 4.1313\n",
      "Epoch 2/20\n",
      "316/316 [==============================] - 309s 978ms/step - loss: 4.0916\n",
      "Epoch 3/20\n",
      "316/316 [==============================] - 305s 965ms/step - loss: 4.0569\n",
      "Epoch 4/20\n",
      "316/316 [==============================] - 308s 976ms/step - loss: 4.0259\n",
      "Epoch 5/20\n",
      "316/316 [==============================] - 309s 977ms/step - loss: 3.9906\n",
      "Epoch 6/20\n",
      "316/316 [==============================] - 314s 993ms/step - loss: 3.9542\n",
      "Epoch 7/20\n",
      "316/316 [==============================] - 305s 967ms/step - loss: 3.9182\n",
      "Epoch 8/20\n",
      "316/316 [==============================] - 309s 978ms/step - loss: 3.8818\n",
      "Epoch 9/20\n",
      "316/316 [==============================] - 303s 960ms/step - loss: 3.8453\n",
      "Epoch 10/20\n",
      "316/316 [==============================] - 308s 974ms/step - loss: 3.8056\n",
      "Epoch 11/20\n",
      "316/316 [==============================] - 310s 982ms/step - loss: 3.7669\n",
      "Epoch 12/20\n",
      "316/316 [==============================] - 312s 987ms/step - loss: 3.7300\n",
      "Epoch 13/20\n",
      "316/316 [==============================] - 309s 976ms/step - loss: 3.6938\n",
      "Epoch 14/20\n",
      "316/316 [==============================] - 316s 999ms/step - loss: 3.6484\n",
      "Epoch 15/20\n",
      "316/316 [==============================] - 313s 990ms/step - loss: 3.6153\n",
      "Epoch 16/20\n",
      "316/316 [==============================] - 314s 993ms/step - loss: 3.5806\n",
      "Epoch 17/20\n",
      "316/316 [==============================] - 310s 983ms/step - loss: 3.5352\n",
      "Epoch 18/20\n",
      "316/316 [==============================] - 313s 989ms/step - loss: 3.4968\n",
      "Epoch 19/20\n",
      "316/316 [==============================] - 314s 993ms/step - loss: 3.4524\n",
      "Epoch 20/20\n",
      "316/316 [==============================] - 315s 998ms/step - loss: 3.4214\n"
     ]
    }
   ],
   "source": [
    "model.train(network_input, network_output, epochs=20, batch_size=128)"
   ]
  },
  {
   "cell_type": "code",
   "execution_count": 27,
   "metadata": {},
   "outputs": [],
   "source": [
    "model.model.save(model_path+'model-chopin_60.h5')"
   ]
  },
  {
   "cell_type": "code",
   "execution_count": 31,
   "metadata": {},
   "outputs": [
    {
     "name": "stdout",
     "output_type": "stream",
     "text": [
      "Epoch 1/20\n",
      "316/316 [==============================] - 310s 982ms/step - loss: 3.3651\n",
      "Epoch 2/20\n",
      "316/316 [==============================] - 311s 983ms/step - loss: 3.3293\n",
      "Epoch 3/20\n",
      "316/316 [==============================] - 307s 971ms/step - loss: 3.2847\n",
      "Epoch 4/20\n",
      "316/316 [==============================] - 309s 977ms/step - loss: 3.2428\n",
      "Epoch 5/20\n",
      "316/316 [==============================] - 305s 966ms/step - loss: 3.2140\n",
      "Epoch 6/20\n",
      "316/316 [==============================] - 308s 975ms/step - loss: 3.1657\n",
      "Epoch 7/20\n",
      "316/316 [==============================] - 305s 965ms/step - loss: 3.1213\n",
      "Epoch 8/20\n",
      "316/316 [==============================] - 309s 977ms/step - loss: 3.0752\n",
      "Epoch 9/20\n",
      "316/316 [==============================] - 305s 965ms/step - loss: 3.0317\n",
      "Epoch 10/20\n",
      "316/316 [==============================] - 313s 991ms/step - loss: 2.9922\n",
      "Epoch 11/20\n",
      "316/316 [==============================] - 308s 974ms/step - loss: 2.9562\n",
      "Epoch 12/20\n",
      "316/316 [==============================] - 310s 982ms/step - loss: 2.9158\n",
      "Epoch 13/20\n",
      "316/316 [==============================] - 306s 968ms/step - loss: 2.8710\n",
      "Epoch 14/20\n",
      "316/316 [==============================] - 307s 971ms/step - loss: 2.8279\n",
      "Epoch 15/20\n",
      "316/316 [==============================] - 303s 958ms/step - loss: 2.7825\n",
      "Epoch 16/20\n",
      "316/316 [==============================] - 303s 960ms/step - loss: 2.7360\n",
      "Epoch 17/20\n",
      "316/316 [==============================] - 300s 950ms/step - loss: 2.7069\n",
      "Epoch 18/20\n",
      "316/316 [==============================] - 302s 954ms/step - loss: 2.6569\n",
      "Epoch 19/20\n",
      "316/316 [==============================] - 301s 953ms/step - loss: 2.6184\n",
      "Epoch 20/20\n",
      "316/316 [==============================] - 307s 971ms/step - loss: 2.5741\n"
     ]
    }
   ],
   "source": [
    "model.train(network_input, network_output, epochs=20, batch_size=128)"
   ]
  },
  {
   "cell_type": "code",
   "execution_count": 32,
   "metadata": {},
   "outputs": [],
   "source": [
    "model.model.save(model_path+'model-chopin_80.h5') "
   ]
  },
  {
   "cell_type": "code",
   "execution_count": 14,
   "metadata": {},
   "outputs": [
    {
     "name": "stdout",
     "output_type": "stream",
     "text": [
      "Epoch 1/20\n",
      "316/316 [==============================] - 314s 995ms/step - loss: 2.5305\n",
      "Epoch 2/20\n",
      "316/316 [==============================] - 317s 1s/step - loss: 2.4826\n",
      "Epoch 3/20\n",
      "316/316 [==============================] - 315s 998ms/step - loss: 2.4383\n",
      "Epoch 4/20\n",
      "316/316 [==============================] - 310s 980ms/step - loss: 2.4094\n",
      "Epoch 5/20\n",
      "316/316 [==============================] - 310s 982ms/step - loss: 2.3623\n",
      "Epoch 6/20\n",
      "316/316 [==============================] - 316s 1s/step - loss: 2.3226\n",
      "Epoch 7/20\n",
      "316/316 [==============================] - 313s 989ms/step - loss: 2.2820\n",
      "Epoch 8/20\n",
      "316/316 [==============================] - 311s 985ms/step - loss: 2.2522\n",
      "Epoch 9/20\n",
      "316/316 [==============================] - 314s 992ms/step - loss: 2.2116\n",
      "Epoch 10/20\n",
      "316/316 [==============================] - 312s 986ms/step - loss: 2.1582\n",
      "Epoch 11/20\n",
      "316/316 [==============================] - 312s 987ms/step - loss: 2.1309\n",
      "Epoch 12/20\n",
      "316/316 [==============================] - 313s 989ms/step - loss: 2.0818\n",
      "Epoch 13/20\n",
      "316/316 [==============================] - 311s 983ms/step - loss: 2.0522\n",
      "Epoch 14/20\n",
      "316/316 [==============================] - 312s 988ms/step - loss: 2.0178\n",
      "Epoch 15/20\n",
      "316/316 [==============================] - 317s 1s/step - loss: 1.9797\n",
      "Epoch 16/20\n",
      "316/316 [==============================] - 317s 1s/step - loss: 1.9340\n",
      "Epoch 17/20\n",
      "316/316 [==============================] - 315s 998ms/step - loss: 1.9099\n",
      "Epoch 18/20\n",
      "316/316 [==============================] - 312s 988ms/step - loss: 1.8606\n",
      "Epoch 19/20\n",
      "316/316 [==============================] - 314s 993ms/step - loss: 1.8444\n",
      "Epoch 20/20\n",
      "316/316 [==============================] - 314s 993ms/step - loss: 1.7985\n"
     ]
    }
   ],
   "source": [
    "model.train(network_input, network_output, epochs=20, batch_size=128)"
   ]
  },
  {
   "cell_type": "code",
   "execution_count": 15,
   "metadata": {},
   "outputs": [],
   "source": [
    "model.model.save(model_path+'model-chopin_100.h5') "
   ]
  },
  {
   "cell_type": "markdown",
   "metadata": {},
   "source": [
    "## Load model"
   ]
  },
  {
   "cell_type": "code",
   "execution_count": 9,
   "metadata": {},
   "outputs": [],
   "source": [
    "# load model\n",
    "model_path = './models/'\n",
    "model = LSTM_model(network_input.shape, network_output.shape, model_path)\n",
    "model.model_name = 'chopin'\n",
    "model.model = tf.keras.models.load_model('./models/model-chopin_100.h5')\n",
    "# model.model.load_weights('./models/model-26-4.4181.h5')  "
   ]
  },
  {
   "cell_type": "markdown",
   "metadata": {},
   "source": [
    "## Predict"
   ]
  },
  {
   "cell_type": "code",
   "execution_count": 10,
   "metadata": {
    "collapsed": true,
    "jupyter": {
     "outputs_hidden": true
    }
   },
   "outputs": [],
   "source": [
    "prediction_output, output_notes = model.generate(network_input, pitchnames, length=100, speed=None)"
   ]
  },
  {
   "cell_type": "code",
   "execution_count": 11,
   "metadata": {},
   "outputs": [
    {
     "data": {
      "text/plain": [
       "'test_output_100.mid'"
      ]
     },
     "execution_count": 11,
     "metadata": {},
     "output_type": "execute_result"
    }
   ],
   "source": [
    "# save midi\n",
    "from music21 import stream\n",
    "midi_stream = stream.Stream(output_notes)\n",
    "midi_stream.write('midi', fp='test_output_100.mid')"
   ]
  },
  {
   "cell_type": "code",
   "execution_count": 12,
   "metadata": {},
   "outputs": [
    {
     "data": {
      "text/plain": [
       "['B-4',\n",
       " 'D4',\n",
       " 'D3',\n",
       " 'A4',\n",
       " 'A4',\n",
       " 'A4',\n",
       " 'D3',\n",
       " 'D3',\n",
       " 'G4',\n",
       " 'G2',\n",
       " 'A4',\n",
       " 'D4',\n",
       " 'D4',\n",
       " 'D3',\n",
       " 'D3',\n",
       " 'G4',\n",
       " 'B-3',\n",
       " 'D4',\n",
       " 'D3',\n",
       " 'G4',\n",
       " 'A4',\n",
       " 'B-4',\n",
       " 'E-3',\n",
       " 'D5',\n",
       " 'D3',\n",
       " 'G4',\n",
       " 'G2',\n",
       " 'A4',\n",
       " 'D4',\n",
       " 'D4',\n",
       " 'D3',\n",
       " 'G4',\n",
       " 'A5',\n",
       " 'A5',\n",
       " 'B-5',\n",
       " 'D6',\n",
       " 'D5',\n",
       " 'G5',\n",
       " 'G4',\n",
       " 'A4',\n",
       " 'D4',\n",
       " 'E-5',\n",
       " 'G5',\n",
       " 'B-4',\n",
       " 'B-4',\n",
       " 'E-3',\n",
       " 'D5',\n",
       " 'D3',\n",
       " 'G4',\n",
       " 'G4',\n",
       " 'A4',\n",
       " 'E-4',\n",
       " 'D4',\n",
       " 'G4',\n",
       " 'B-4',\n",
       " 'B-4',\n",
       " 'E-3',\n",
       " 'E-5',\n",
       " 'D3',\n",
       " 'G4',\n",
       " 'A5',\n",
       " 'E-3',\n",
       " 'D5',\n",
       " 'G5',\n",
       " 'E-4',\n",
       " 'B-4',\n",
       " 'A5',\n",
       " 'B-5',\n",
       " 'G5',\n",
       " 'D3',\n",
       " '7.10',\n",
       " 'C5',\n",
       " 'B-5',\n",
       " 'G5',\n",
       " 'D3',\n",
       " 'G5',\n",
       " 'B-3',\n",
       " 'E-5',\n",
       " 'E-5',\n",
       " 'G4',\n",
       " 'G4',\n",
       " 'B-4',\n",
       " 'D5',\n",
       " 'E-5',\n",
       " 'G5',\n",
       " 'B-4',\n",
       " 'A5',\n",
       " 'G5',\n",
       " 'D5',\n",
       " 'D3',\n",
       " 'D6',\n",
       " 'A4',\n",
       " 'D3',\n",
       " 'D3',\n",
       " 'D5',\n",
       " 'G4',\n",
       " 'B-3',\n",
       " 'D4',\n",
       " 'D5',\n",
       " 'G5']"
      ]
     },
     "execution_count": 12,
     "metadata": {},
     "output_type": "execute_result"
    }
   ],
   "source": [
    "prediction_output"
   ]
  },
  {
   "cell_type": "markdown",
   "metadata": {},
   "source": [
    "## Visualization"
   ]
  },
  {
   "cell_type": "code",
   "execution_count": 10,
   "metadata": {},
   "outputs": [],
   "source": [
    "# visualization\n",
    "import os\n",
    "from music21 import converter, instrument, note, chord\n",
    "import IPython.display\n",
    "\n",
    "# # get environment\n",
    "env = environment.Environment()\n",
    "# # set path if necessary\n",
    "# solution 1\n",
    "env['musicxmlPath'] = 'D:\\\\MuseScore\\\\install\\\\bin\\\\MuseScore3.exe'\n",
    "env['musescoreDirectPNGPath'] = 'D:\\\\MuseScore\\\\install\\\\bin\\\\MuseScore3.exe'\n",
    "\n",
    "# solution 2\n",
    "# env['musicxmlPath'] = 'D:\\MuseScore\\install\\bin\\MuseScore3.exe'\n",
    "# env['musescoreDirectPNGPath'] = 'D:\\MuseScore\\install\\bin\\MuseScore3.exe'\n",
    "\n",
    "# solution 3\n",
    "# env['musicxmlPath'] = 'D:/MuseScore/install/bin/MuseScore3.exe'\n",
    "# env['musescoreDirectPNGPath'] = 'D:/MuseScore/install/bin/MuseScore3.exe'\n",
    "\n",
    "# test\n",
    "# n = note.Note(\"D#3\")\n",
    "# n.duration.type = 'half'\n",
    "# n.show()\n",
    "\n",
    "midi = converter.parse('./test_output_100.mid')\n",
    "midi.show()"
   ]
  },
  {
   "cell_type": "code",
   "execution_count": null,
   "metadata": {},
   "outputs": [],
   "source": []
  }
 ],
 "metadata": {
  "kernelspec": {
   "display_name": "envTF22",
   "language": "python",
   "name": "envtf22"
  },
  "language_info": {
   "codemirror_mode": {
    "name": "ipython",
    "version": 3
   },
   "file_extension": ".py",
   "mimetype": "text/x-python",
   "name": "python",
   "nbconvert_exporter": "python",
   "pygments_lexer": "ipython3",
   "version": "3.7.9"
  },
  "varInspector": {
   "cols": {
    "lenName": 16,
    "lenType": 16,
    "lenVar": 40
   },
   "kernels_config": {
    "python": {
     "delete_cmd_postfix": "",
     "delete_cmd_prefix": "del ",
     "library": "var_list.py",
     "varRefreshCmd": "print(var_dic_list())"
    },
    "r": {
     "delete_cmd_postfix": ") ",
     "delete_cmd_prefix": "rm(",
     "library": "var_list.r",
     "varRefreshCmd": "cat(var_dic_list()) "
    }
   },
   "types_to_exclude": [
    "module",
    "function",
    "builtin_function_or_method",
    "instance",
    "_Feature"
   ],
   "window_display": false
  }
 },
 "nbformat": 4,
 "nbformat_minor": 4
}
